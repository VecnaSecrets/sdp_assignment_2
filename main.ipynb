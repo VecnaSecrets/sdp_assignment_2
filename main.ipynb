{
 "cells": [
  {
   "cell_type": "code",
   "execution_count": 1,
   "metadata": {},
   "outputs": [],
   "source": [
    "from glob import glob\n",
    "from os import path\n",
    "\n",
    "import numpy as np\n",
    "import pandas as pd\n",
    "import sklearn as sk\n"
   ]
  },
  {
   "attachments": {},
   "cell_type": "markdown",
   "metadata": {},
   "source": [
    "# [Dataset](https://drive.google.com/drive/folders/1nfrYxDm7TLzls9pedZbLX5rP4McVDWDe)"
   ]
  },
  {
   "cell_type": "code",
   "execution_count": 2,
   "metadata": {},
   "outputs": [],
   "source": [
    "DATASET_PATH = \"SSD2022AS2\"\n"
   ]
  },
  {
   "cell_type": "code",
   "execution_count": 3,
   "metadata": {},
   "outputs": [],
   "source": [
    "csv_files = glob(pathname=path.join(DATASET_PATH, \"*.csv\"), recursive=True)\n"
   ]
  },
  {
   "cell_type": "code",
   "execution_count": 4,
   "metadata": {},
   "outputs": [],
   "source": [
    "dfs = list()\n",
    "\n",
    "for csv_file in csv_files:\n",
    "    dfs.append(pd.read_csv(filepath_or_buffer=csv_file))\n"
   ]
  },
  {
   "cell_type": "code",
   "execution_count": 5,
   "metadata": {},
   "outputs": [],
   "source": [
    "df = pd.concat(objs=dfs)\n"
   ]
  },
  {
   "cell_type": "code",
   "execution_count": 6,
   "metadata": {},
   "outputs": [
    {
     "data": {
      "text/html": [
       "<div>\n",
       "<style scoped>\n",
       "    .dataframe tbody tr th:only-of-type {\n",
       "        vertical-align: middle;\n",
       "    }\n",
       "\n",
       "    .dataframe tbody tr th {\n",
       "        vertical-align: top;\n",
       "    }\n",
       "\n",
       "    .dataframe thead th {\n",
       "        text-align: right;\n",
       "    }\n",
       "</style>\n",
       "<table border=\"1\" class=\"dataframe\">\n",
       "  <thead>\n",
       "    <tr style=\"text-align: right;\">\n",
       "      <th></th>\n",
       "      <th>client_user_id</th>\n",
       "      <th>session_id</th>\n",
       "      <th>dropped_frames</th>\n",
       "      <th>FPS</th>\n",
       "      <th>bitrate</th>\n",
       "      <th>RTT</th>\n",
       "      <th>timestamp</th>\n",
       "      <th>device</th>\n",
       "    </tr>\n",
       "  </thead>\n",
       "  <tbody>\n",
       "    <tr>\n",
       "      <th>0</th>\n",
       "      <td>0164608e-924e-407d-b7c6-f3c3fbaa882a</td>\n",
       "      <td>956d6b48-a337-41a5-8695-d265a6aa06ac</td>\n",
       "      <td>0.0</td>\n",
       "      <td>44.0</td>\n",
       "      <td>50.0</td>\n",
       "      <td>265.0</td>\n",
       "      <td>2022-09-14 08:31:10</td>\n",
       "      <td>Windows</td>\n",
       "    </tr>\n",
       "    <tr>\n",
       "      <th>1</th>\n",
       "      <td>0164608e-924e-407d-b7c6-f3c3fbaa882a</td>\n",
       "      <td>956d6b48-a337-41a5-8695-d265a6aa06ac</td>\n",
       "      <td>0.0</td>\n",
       "      <td>45.0</td>\n",
       "      <td>44.0</td>\n",
       "      <td>270.0</td>\n",
       "      <td>2022-09-14 08:31:15</td>\n",
       "      <td>Windows</td>\n",
       "    </tr>\n",
       "    <tr>\n",
       "      <th>2</th>\n",
       "      <td>0164608e-924e-407d-b7c6-f3c3fbaa882a</td>\n",
       "      <td>956d6b48-a337-41a5-8695-d265a6aa06ac</td>\n",
       "      <td>0.0</td>\n",
       "      <td>44.0</td>\n",
       "      <td>44.0</td>\n",
       "      <td>272.0</td>\n",
       "      <td>2022-09-14 08:31:20</td>\n",
       "      <td>Windows</td>\n",
       "    </tr>\n",
       "    <tr>\n",
       "      <th>3</th>\n",
       "      <td>0164608e-924e-407d-b7c6-f3c3fbaa882a</td>\n",
       "      <td>956d6b48-a337-41a5-8695-d265a6aa06ac</td>\n",
       "      <td>0.0</td>\n",
       "      <td>43.0</td>\n",
       "      <td>43.0</td>\n",
       "      <td>212.0</td>\n",
       "      <td>2022-09-14 08:31:25</td>\n",
       "      <td>Windows</td>\n",
       "    </tr>\n",
       "    <tr>\n",
       "      <th>4</th>\n",
       "      <td>0164608e-924e-407d-b7c6-f3c3fbaa882a</td>\n",
       "      <td>956d6b48-a337-41a5-8695-d265a6aa06ac</td>\n",
       "      <td>0.0</td>\n",
       "      <td>44.0</td>\n",
       "      <td>45.0</td>\n",
       "      <td>259.0</td>\n",
       "      <td>2022-09-14 08:31:30</td>\n",
       "      <td>Windows</td>\n",
       "    </tr>\n",
       "  </tbody>\n",
       "</table>\n",
       "</div>"
      ],
      "text/plain": [
       "                         client_user_id                            session_id  \\\n",
       "0  0164608e-924e-407d-b7c6-f3c3fbaa882a  956d6b48-a337-41a5-8695-d265a6aa06ac   \n",
       "1  0164608e-924e-407d-b7c6-f3c3fbaa882a  956d6b48-a337-41a5-8695-d265a6aa06ac   \n",
       "2  0164608e-924e-407d-b7c6-f3c3fbaa882a  956d6b48-a337-41a5-8695-d265a6aa06ac   \n",
       "3  0164608e-924e-407d-b7c6-f3c3fbaa882a  956d6b48-a337-41a5-8695-d265a6aa06ac   \n",
       "4  0164608e-924e-407d-b7c6-f3c3fbaa882a  956d6b48-a337-41a5-8695-d265a6aa06ac   \n",
       "\n",
       "   dropped_frames   FPS  bitrate    RTT            timestamp   device  \n",
       "0             0.0  44.0     50.0  265.0  2022-09-14 08:31:10  Windows  \n",
       "1             0.0  45.0     44.0  270.0  2022-09-14 08:31:15  Windows  \n",
       "2             0.0  44.0     44.0  272.0  2022-09-14 08:31:20  Windows  \n",
       "3             0.0  43.0     43.0  212.0  2022-09-14 08:31:25  Windows  \n",
       "4             0.0  44.0     45.0  259.0  2022-09-14 08:31:30  Windows  "
      ]
     },
     "execution_count": 6,
     "metadata": {},
     "output_type": "execute_result"
    }
   ],
   "source": [
    "df.head()\n"
   ]
  },
  {
   "cell_type": "code",
   "execution_count": 7,
   "metadata": {},
   "outputs": [
    {
     "data": {
      "text/plain": [
       "(4035062, 8)"
      ]
     },
     "execution_count": 7,
     "metadata": {},
     "output_type": "execute_result"
    }
   ],
   "source": [
    "df.shape\n"
   ]
  },
  {
   "cell_type": "code",
   "execution_count": 22,
   "metadata": {},
   "outputs": [],
   "source": [
    "df_a = (\n",
    "    df.drop(labels=[\"timestamp\", \"device\"], axis=1)\n",
    "    .groupby(by=[\"client_user_id\", \"session_id\"])\n",
    "    .aggregate(\n",
    "        {\n",
    "            \"dropped_frames\": [\"mean\", \"std\", \"max\"],\n",
    "            \"FPS\": [\"mean\", \"std\"],\n",
    "            \"bitrate\": [\"mean\", \"std\"],\n",
    "            \"RTT\": [\"mean\", \"std\"],\n",
    "        }\n",
    "    )\n",
    ")\n"
   ]
  },
  {
   "cell_type": "code",
   "execution_count": 24,
   "metadata": {},
   "outputs": [
    {
     "data": {
      "text/html": [
       "<div>\n",
       "<style scoped>\n",
       "    .dataframe tbody tr th:only-of-type {\n",
       "        vertical-align: middle;\n",
       "    }\n",
       "\n",
       "    .dataframe tbody tr th {\n",
       "        vertical-align: top;\n",
       "    }\n",
       "\n",
       "    .dataframe thead tr th {\n",
       "        text-align: left;\n",
       "    }\n",
       "\n",
       "    .dataframe thead tr:last-of-type th {\n",
       "        text-align: right;\n",
       "    }\n",
       "</style>\n",
       "<table border=\"1\" class=\"dataframe\">\n",
       "  <thead>\n",
       "    <tr>\n",
       "      <th></th>\n",
       "      <th></th>\n",
       "      <th colspan=\"3\" halign=\"left\">dropped_frames</th>\n",
       "      <th colspan=\"2\" halign=\"left\">FPS</th>\n",
       "      <th colspan=\"2\" halign=\"left\">bitrate</th>\n",
       "      <th colspan=\"2\" halign=\"left\">RTT</th>\n",
       "    </tr>\n",
       "    <tr>\n",
       "      <th></th>\n",
       "      <th></th>\n",
       "      <th>mean</th>\n",
       "      <th>std</th>\n",
       "      <th>max</th>\n",
       "      <th>mean</th>\n",
       "      <th>std</th>\n",
       "      <th>mean</th>\n",
       "      <th>std</th>\n",
       "      <th>mean</th>\n",
       "      <th>std</th>\n",
       "    </tr>\n",
       "    <tr>\n",
       "      <th>client_user_id</th>\n",
       "      <th>session_id</th>\n",
       "      <th></th>\n",
       "      <th></th>\n",
       "      <th></th>\n",
       "      <th></th>\n",
       "      <th></th>\n",
       "      <th></th>\n",
       "      <th></th>\n",
       "      <th></th>\n",
       "      <th></th>\n",
       "    </tr>\n",
       "  </thead>\n",
       "  <tbody>\n",
       "    <tr>\n",
       "      <th>003c2e7e-4392-4d01-81bb-93f2cce29f0b</th>\n",
       "      <th>8d39d204-d510-43cd-bf49-4df53f5ca0a5</th>\n",
       "      <td>9.166667</td>\n",
       "      <td>27.891519</td>\n",
       "      <td>159.0</td>\n",
       "      <td>44.337719</td>\n",
       "      <td>18.079243</td>\n",
       "      <td>3883.149123</td>\n",
       "      <td>5381.456809</td>\n",
       "      <td>171.109649</td>\n",
       "      <td>277.138638</td>\n",
       "    </tr>\n",
       "    <tr>\n",
       "      <th>004a4a88-03ec-4f2e-a0a3-9575fb7e3b1a</th>\n",
       "      <th>10a0bf75-0332-4fa9-8d5b-e2d90ec69bbf</th>\n",
       "      <td>0.510345</td>\n",
       "      <td>6.243930</td>\n",
       "      <td>92.0</td>\n",
       "      <td>41.864368</td>\n",
       "      <td>12.710460</td>\n",
       "      <td>6415.157471</td>\n",
       "      <td>4366.984310</td>\n",
       "      <td>27.934483</td>\n",
       "      <td>11.900105</td>\n",
       "    </tr>\n",
       "    <tr>\n",
       "      <th rowspan=\"3\" valign=\"top\">006e829c-f656-4836-bc04-bafec3901fdc</th>\n",
       "      <th>11542f15-f5f2-4a02-9344-f0bbc8ad06ad</th>\n",
       "      <td>1.359472</td>\n",
       "      <td>7.448480</td>\n",
       "      <td>72.0</td>\n",
       "      <td>29.026398</td>\n",
       "      <td>4.702089</td>\n",
       "      <td>17226.447205</td>\n",
       "      <td>5076.756036</td>\n",
       "      <td>58.000776</td>\n",
       "      <td>9.220387</td>\n",
       "    </tr>\n",
       "    <tr>\n",
       "      <th>38fd51c4-5e7c-4cd5-abcc-ff3d8e3c3180</th>\n",
       "      <td>1.276265</td>\n",
       "      <td>8.476644</td>\n",
       "      <td>86.0</td>\n",
       "      <td>39.822957</td>\n",
       "      <td>5.304531</td>\n",
       "      <td>3930.153696</td>\n",
       "      <td>1532.691830</td>\n",
       "      <td>54.888132</td>\n",
       "      <td>55.603848</td>\n",
       "    </tr>\n",
       "    <tr>\n",
       "      <th>da0de052-ba6f-4f2c-8053-28d1cdcc0686</th>\n",
       "      <td>0.895911</td>\n",
       "      <td>5.379302</td>\n",
       "      <td>38.0</td>\n",
       "      <td>26.847584</td>\n",
       "      <td>4.424639</td>\n",
       "      <td>13372.773234</td>\n",
       "      <td>4410.790738</td>\n",
       "      <td>16.405204</td>\n",
       "      <td>8.144871</td>\n",
       "    </tr>\n",
       "  </tbody>\n",
       "</table>\n",
       "</div>"
      ],
      "text/plain": [
       "                                                                          dropped_frames  \\\n",
       "                                                                                    mean   \n",
       "client_user_id                       session_id                                            \n",
       "003c2e7e-4392-4d01-81bb-93f2cce29f0b 8d39d204-d510-43cd-bf49-4df53f5ca0a5       9.166667   \n",
       "004a4a88-03ec-4f2e-a0a3-9575fb7e3b1a 10a0bf75-0332-4fa9-8d5b-e2d90ec69bbf       0.510345   \n",
       "006e829c-f656-4836-bc04-bafec3901fdc 11542f15-f5f2-4a02-9344-f0bbc8ad06ad       1.359472   \n",
       "                                     38fd51c4-5e7c-4cd5-abcc-ff3d8e3c3180       1.276265   \n",
       "                                     da0de052-ba6f-4f2c-8053-28d1cdcc0686       0.895911   \n",
       "\n",
       "                                                                                      \\\n",
       "                                                                                 std   \n",
       "client_user_id                       session_id                                        \n",
       "003c2e7e-4392-4d01-81bb-93f2cce29f0b 8d39d204-d510-43cd-bf49-4df53f5ca0a5  27.891519   \n",
       "004a4a88-03ec-4f2e-a0a3-9575fb7e3b1a 10a0bf75-0332-4fa9-8d5b-e2d90ec69bbf   6.243930   \n",
       "006e829c-f656-4836-bc04-bafec3901fdc 11542f15-f5f2-4a02-9344-f0bbc8ad06ad   7.448480   \n",
       "                                     38fd51c4-5e7c-4cd5-abcc-ff3d8e3c3180   8.476644   \n",
       "                                     da0de052-ba6f-4f2c-8053-28d1cdcc0686   5.379302   \n",
       "\n",
       "                                                                                  \\\n",
       "                                                                             max   \n",
       "client_user_id                       session_id                                    \n",
       "003c2e7e-4392-4d01-81bb-93f2cce29f0b 8d39d204-d510-43cd-bf49-4df53f5ca0a5  159.0   \n",
       "004a4a88-03ec-4f2e-a0a3-9575fb7e3b1a 10a0bf75-0332-4fa9-8d5b-e2d90ec69bbf   92.0   \n",
       "006e829c-f656-4836-bc04-bafec3901fdc 11542f15-f5f2-4a02-9344-f0bbc8ad06ad   72.0   \n",
       "                                     38fd51c4-5e7c-4cd5-abcc-ff3d8e3c3180   86.0   \n",
       "                                     da0de052-ba6f-4f2c-8053-28d1cdcc0686   38.0   \n",
       "\n",
       "                                                                                 FPS  \\\n",
       "                                                                                mean   \n",
       "client_user_id                       session_id                                        \n",
       "003c2e7e-4392-4d01-81bb-93f2cce29f0b 8d39d204-d510-43cd-bf49-4df53f5ca0a5  44.337719   \n",
       "004a4a88-03ec-4f2e-a0a3-9575fb7e3b1a 10a0bf75-0332-4fa9-8d5b-e2d90ec69bbf  41.864368   \n",
       "006e829c-f656-4836-bc04-bafec3901fdc 11542f15-f5f2-4a02-9344-f0bbc8ad06ad  29.026398   \n",
       "                                     38fd51c4-5e7c-4cd5-abcc-ff3d8e3c3180  39.822957   \n",
       "                                     da0de052-ba6f-4f2c-8053-28d1cdcc0686  26.847584   \n",
       "\n",
       "                                                                                      \\\n",
       "                                                                                 std   \n",
       "client_user_id                       session_id                                        \n",
       "003c2e7e-4392-4d01-81bb-93f2cce29f0b 8d39d204-d510-43cd-bf49-4df53f5ca0a5  18.079243   \n",
       "004a4a88-03ec-4f2e-a0a3-9575fb7e3b1a 10a0bf75-0332-4fa9-8d5b-e2d90ec69bbf  12.710460   \n",
       "006e829c-f656-4836-bc04-bafec3901fdc 11542f15-f5f2-4a02-9344-f0bbc8ad06ad   4.702089   \n",
       "                                     38fd51c4-5e7c-4cd5-abcc-ff3d8e3c3180   5.304531   \n",
       "                                     da0de052-ba6f-4f2c-8053-28d1cdcc0686   4.424639   \n",
       "\n",
       "                                                                                bitrate  \\\n",
       "                                                                                   mean   \n",
       "client_user_id                       session_id                                           \n",
       "003c2e7e-4392-4d01-81bb-93f2cce29f0b 8d39d204-d510-43cd-bf49-4df53f5ca0a5   3883.149123   \n",
       "004a4a88-03ec-4f2e-a0a3-9575fb7e3b1a 10a0bf75-0332-4fa9-8d5b-e2d90ec69bbf   6415.157471   \n",
       "006e829c-f656-4836-bc04-bafec3901fdc 11542f15-f5f2-4a02-9344-f0bbc8ad06ad  17226.447205   \n",
       "                                     38fd51c4-5e7c-4cd5-abcc-ff3d8e3c3180   3930.153696   \n",
       "                                     da0de052-ba6f-4f2c-8053-28d1cdcc0686  13372.773234   \n",
       "\n",
       "                                                                                        \\\n",
       "                                                                                   std   \n",
       "client_user_id                       session_id                                          \n",
       "003c2e7e-4392-4d01-81bb-93f2cce29f0b 8d39d204-d510-43cd-bf49-4df53f5ca0a5  5381.456809   \n",
       "004a4a88-03ec-4f2e-a0a3-9575fb7e3b1a 10a0bf75-0332-4fa9-8d5b-e2d90ec69bbf  4366.984310   \n",
       "006e829c-f656-4836-bc04-bafec3901fdc 11542f15-f5f2-4a02-9344-f0bbc8ad06ad  5076.756036   \n",
       "                                     38fd51c4-5e7c-4cd5-abcc-ff3d8e3c3180  1532.691830   \n",
       "                                     da0de052-ba6f-4f2c-8053-28d1cdcc0686  4410.790738   \n",
       "\n",
       "                                                                                  RTT  \\\n",
       "                                                                                 mean   \n",
       "client_user_id                       session_id                                         \n",
       "003c2e7e-4392-4d01-81bb-93f2cce29f0b 8d39d204-d510-43cd-bf49-4df53f5ca0a5  171.109649   \n",
       "004a4a88-03ec-4f2e-a0a3-9575fb7e3b1a 10a0bf75-0332-4fa9-8d5b-e2d90ec69bbf   27.934483   \n",
       "006e829c-f656-4836-bc04-bafec3901fdc 11542f15-f5f2-4a02-9344-f0bbc8ad06ad   58.000776   \n",
       "                                     38fd51c4-5e7c-4cd5-abcc-ff3d8e3c3180   54.888132   \n",
       "                                     da0de052-ba6f-4f2c-8053-28d1cdcc0686   16.405204   \n",
       "\n",
       "                                                                                       \n",
       "                                                                                  std  \n",
       "client_user_id                       session_id                                        \n",
       "003c2e7e-4392-4d01-81bb-93f2cce29f0b 8d39d204-d510-43cd-bf49-4df53f5ca0a5  277.138638  \n",
       "004a4a88-03ec-4f2e-a0a3-9575fb7e3b1a 10a0bf75-0332-4fa9-8d5b-e2d90ec69bbf   11.900105  \n",
       "006e829c-f656-4836-bc04-bafec3901fdc 11542f15-f5f2-4a02-9344-f0bbc8ad06ad    9.220387  \n",
       "                                     38fd51c4-5e7c-4cd5-abcc-ff3d8e3c3180   55.603848  \n",
       "                                     da0de052-ba6f-4f2c-8053-28d1cdcc0686    8.144871  "
      ]
     },
     "execution_count": 24,
     "metadata": {},
     "output_type": "execute_result"
    }
   ],
   "source": [
    "df_a.head()"
   ]
  },
  {
   "cell_type": "code",
   "execution_count": 25,
   "metadata": {},
   "outputs": [],
   "source": [
    "df_a.columns = [\"_\".join(column).lower() for column in df_a.columns.to_flat_index()]\n"
   ]
  },
  {
   "cell_type": "code",
   "execution_count": 26,
   "metadata": {},
   "outputs": [],
   "source": [
    "df_a = df_a.reset_index(drop=True)\n"
   ]
  },
  {
   "cell_type": "code",
   "execution_count": 27,
   "metadata": {},
   "outputs": [
    {
     "data": {
      "text/html": [
       "<div>\n",
       "<style scoped>\n",
       "    .dataframe tbody tr th:only-of-type {\n",
       "        vertical-align: middle;\n",
       "    }\n",
       "\n",
       "    .dataframe tbody tr th {\n",
       "        vertical-align: top;\n",
       "    }\n",
       "\n",
       "    .dataframe thead th {\n",
       "        text-align: right;\n",
       "    }\n",
       "</style>\n",
       "<table border=\"1\" class=\"dataframe\">\n",
       "  <thead>\n",
       "    <tr style=\"text-align: right;\">\n",
       "      <th></th>\n",
       "      <th>dropped_frames_mean</th>\n",
       "      <th>dropped_frames_std</th>\n",
       "      <th>dropped_frames_max</th>\n",
       "      <th>fps_mean</th>\n",
       "      <th>fps_std</th>\n",
       "      <th>bitrate_mean</th>\n",
       "      <th>bitrate_std</th>\n",
       "      <th>rtt_mean</th>\n",
       "      <th>rtt_std</th>\n",
       "    </tr>\n",
       "  </thead>\n",
       "  <tbody>\n",
       "    <tr>\n",
       "      <th>0</th>\n",
       "      <td>9.166667</td>\n",
       "      <td>27.891519</td>\n",
       "      <td>159.0</td>\n",
       "      <td>44.337719</td>\n",
       "      <td>18.079243</td>\n",
       "      <td>3883.149123</td>\n",
       "      <td>5381.456809</td>\n",
       "      <td>171.109649</td>\n",
       "      <td>277.138638</td>\n",
       "    </tr>\n",
       "    <tr>\n",
       "      <th>1</th>\n",
       "      <td>0.510345</td>\n",
       "      <td>6.243930</td>\n",
       "      <td>92.0</td>\n",
       "      <td>41.864368</td>\n",
       "      <td>12.710460</td>\n",
       "      <td>6415.157471</td>\n",
       "      <td>4366.984310</td>\n",
       "      <td>27.934483</td>\n",
       "      <td>11.900105</td>\n",
       "    </tr>\n",
       "    <tr>\n",
       "      <th>2</th>\n",
       "      <td>1.359472</td>\n",
       "      <td>7.448480</td>\n",
       "      <td>72.0</td>\n",
       "      <td>29.026398</td>\n",
       "      <td>4.702089</td>\n",
       "      <td>17226.447205</td>\n",
       "      <td>5076.756036</td>\n",
       "      <td>58.000776</td>\n",
       "      <td>9.220387</td>\n",
       "    </tr>\n",
       "    <tr>\n",
       "      <th>3</th>\n",
       "      <td>1.276265</td>\n",
       "      <td>8.476644</td>\n",
       "      <td>86.0</td>\n",
       "      <td>39.822957</td>\n",
       "      <td>5.304531</td>\n",
       "      <td>3930.153696</td>\n",
       "      <td>1532.691830</td>\n",
       "      <td>54.888132</td>\n",
       "      <td>55.603848</td>\n",
       "    </tr>\n",
       "    <tr>\n",
       "      <th>4</th>\n",
       "      <td>0.895911</td>\n",
       "      <td>5.379302</td>\n",
       "      <td>38.0</td>\n",
       "      <td>26.847584</td>\n",
       "      <td>4.424639</td>\n",
       "      <td>13372.773234</td>\n",
       "      <td>4410.790738</td>\n",
       "      <td>16.405204</td>\n",
       "      <td>8.144871</td>\n",
       "    </tr>\n",
       "  </tbody>\n",
       "</table>\n",
       "</div>"
      ],
      "text/plain": [
       "   dropped_frames_mean  dropped_frames_std  dropped_frames_max   fps_mean  \\\n",
       "0             9.166667           27.891519               159.0  44.337719   \n",
       "1             0.510345            6.243930                92.0  41.864368   \n",
       "2             1.359472            7.448480                72.0  29.026398   \n",
       "3             1.276265            8.476644                86.0  39.822957   \n",
       "4             0.895911            5.379302                38.0  26.847584   \n",
       "\n",
       "     fps_std  bitrate_mean  bitrate_std    rtt_mean     rtt_std  \n",
       "0  18.079243   3883.149123  5381.456809  171.109649  277.138638  \n",
       "1  12.710460   6415.157471  4366.984310   27.934483   11.900105  \n",
       "2   4.702089  17226.447205  5076.756036   58.000776    9.220387  \n",
       "3   5.304531   3930.153696  1532.691830   54.888132   55.603848  \n",
       "4   4.424639  13372.773234  4410.790738   16.405204    8.144871  "
      ]
     },
     "execution_count": 27,
     "metadata": {},
     "output_type": "execute_result"
    }
   ],
   "source": [
    "df_a.head()\n"
   ]
  },
  {
   "cell_type": "code",
   "execution_count": 28,
   "metadata": {},
   "outputs": [],
   "source": [
    "# df_a.to_csv(path_or_buf=\"output.csv\")\n"
   ]
  },
  {
   "attachments": {},
   "cell_type": "markdown",
   "metadata": {},
   "source": [
    "# Pipeline"
   ]
  },
  {
   "cell_type": "code",
   "execution_count": null,
   "metadata": {},
   "outputs": [],
   "source": []
  },
  {
   "cell_type": "markdown",
   "metadata": {},
   "source": [
    "# Next Session Time"
   ]
  },
  {
   "cell_type": "code",
   "execution_count": null,
   "metadata": {},
   "outputs": [],
   "source": [
    "\n"
   ]
  },
  {
   "cell_type": "markdown",
   "metadata": {},
   "source": [
    "# Stream Quality"
   ]
  },
  {
   "cell_type": "code",
   "execution_count": null,
   "metadata": {},
   "outputs": [],
   "source": [
    "\n"
   ]
  },
  {
   "cell_type": "markdown",
   "metadata": {},
   "source": [
    "# Total Number of Bad Sessions"
   ]
  },
  {
   "cell_type": "code",
   "execution_count": null,
   "metadata": {},
   "outputs": [],
   "source": [
    "\n"
   ]
  }
 ],
 "metadata": {
  "kernelspec": {
   "display_name": "Python 3.9.12 ('base')",
   "language": "python",
   "name": "python3"
  },
  "language_info": {
   "codemirror_mode": {
    "name": "ipython",
    "version": 3
   },
   "file_extension": ".py",
   "mimetype": "text/x-python",
   "name": "python",
   "nbconvert_exporter": "python",
   "pygments_lexer": "ipython3",
   "version": "3.9.12"
  },
  "orig_nbformat": 4,
  "vscode": {
   "interpreter": {
    "hash": "58b9660cfce7acfe48a38fca63a47f2b9862de9f166d7549cee88c037e8712d9"
   }
  }
 },
 "nbformat": 4,
 "nbformat_minor": 2
}
